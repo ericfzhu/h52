{
 "cells": [
  {
   "cell_type": "code",
   "execution_count": 2,
   "metadata": {},
   "outputs": [
    {
     "data": {
      "text/plain": [
       "[{'item_id': 'H079086CK0Y',\n",
       "  'title': 'Lindy mini bag',\n",
       "  'color': 'Yellow',\n",
       "  'url': '/au/en/product/lindy-mini-bag-H079086CK0Y/',\n",
       "  'price': 11640,\n",
       "  'unavailable': True},\n",
       " {'item_id': 'H079086CKX9',\n",
       "  'title': 'Lindy mini bag',\n",
       "  'color': 'Pink',\n",
       "  'url': '/au/en/product/lindy-mini-bag-H079086CKX9/',\n",
       "  'price': 11640,\n",
       "  'unavailable': True},\n",
       " {'item_id': 'H079086CCD2',\n",
       "  'title': 'Lindy mini bag',\n",
       "  'color': 'Blue',\n",
       "  'url': '/au/en/product/lindy-mini-bag-H079086CCD2/',\n",
       "  'price': 11640,\n",
       "  'unavailable': True},\n",
       " {'item_id': 'H073428CC8L',\n",
       "  'title': 'Lindy 26 bag',\n",
       "  'color': 'Grey',\n",
       "  'url': '/au/en/product/lindy-26-bag-H073428CC8L/',\n",
       "  'price': 13860,\n",
       "  'unavailable': True},\n",
       " {'item_id': 'H073428CC18',\n",
       "  'title': 'Lindy 26 bag',\n",
       "  'color': 'Beige/Natural',\n",
       "  'url': '/au/en/product/lindy-26-bag-H073428CC18/',\n",
       "  'price': 13860,\n",
       "  'unavailable': True},\n",
       " {'item_id': 'H073428CC3Y',\n",
       "  'title': 'Lindy 26 bag',\n",
       "  'color': 'Blue',\n",
       "  'url': '/au/en/product/lindy-26-bag-H073428CC3Y/',\n",
       "  'price': 13860,\n",
       "  'unavailable': True},\n",
       " {'item_id': 'H083618CKAB',\n",
       "  'title': 'Steeple 25 bag',\n",
       "  'color': 'Multi-colored',\n",
       "  'url': '/au/en/product/steeple-25-bag-H083618CKAB/',\n",
       "  'price': 7300,\n",
       "  'unavailable': False},\n",
       " {'item_id': 'H082924CAAD',\n",
       "  'title': 'Cabas H en Biais 40 bag',\n",
       "  'color': 'Multi-colored',\n",
       "  'url': '/au/en/product/cabas-h-en-biais-40-bag-H082924CAAD/',\n",
       "  'price': 11955,\n",
       "  'unavailable': False},\n",
       " {'item_id': 'H085078CKAA',\n",
       "  'title': 'Garden Party 49 voyage bag',\n",
       "  'color': 'Beige/Natural',\n",
       "  'url': '/au/en/product/garden-party-49-voyage-bag-H085078CKAA/',\n",
       "  'price': 9545,\n",
       "  'unavailable': False},\n",
       " {'item_id': 'H078595CKAA',\n",
       "  'title': 'Bolide 1923 - 45 Racing bag',\n",
       "  'color': 'Blue',\n",
       "  'url': '/au/en/product/bolide-1923-45-racing-bag-H078595CKAA/',\n",
       "  'price': 49705,\n",
       "  'unavailable': False},\n",
       " {'item_id': 'H083618CKAC',\n",
       "  'title': 'Steeple 25 bag',\n",
       "  'color': 'Multi-colored',\n",
       "  'url': '/au/en/product/steeple-25-bag-H083618CKAC/',\n",
       "  'price': 7300,\n",
       "  'unavailable': False},\n",
       " {'item_id': 'H083894CAAG',\n",
       "  'title': 'Pursangle tote bag',\n",
       "  'color': 'Multi-colored',\n",
       "  'url': '/au/en/product/pursangle-tote-bag-H083894CAAG/',\n",
       "  'price': 5900,\n",
       "  'unavailable': False},\n",
       " {'item_id': 'H083189CCAF',\n",
       "  'title': 'Picotin Lock 18 pocket bag',\n",
       "  'color': 'Beige/Natural',\n",
       "  'url': '/au/en/product/picotin-lock-18-pocket-bag-H083189CCAF/',\n",
       "  'price': 6560,\n",
       "  'unavailable': False},\n",
       " {'item_id': 'H070510CP37',\n",
       "  'title': 'Roulis mini bag',\n",
       "  'color': 'Brown',\n",
       "  'url': '/au/en/product/roulis-mini-bag-H070510CP37/',\n",
       "  'price': 13440,\n",
       "  'unavailable': False}]"
      ]
     },
     "execution_count": 2,
     "metadata": {},
     "output_type": "execute_result"
    }
   ],
   "source": [
    "from functions.hermes_profiler import app\n",
    "from bs4 import BeautifulSoup\n",
    "with open(\"tests/unit/sample.html\", \"r\") as file:\n",
    "\thtml = file.read()\n",
    "\n",
    "soup = BeautifulSoup(html, 'html.parser')\n",
    "items = app.extract_item_info(soup)\n",
    "items"
   ]
  },
  {
   "cell_type": "code",
   "execution_count": 3,
   "metadata": {},
   "outputs": [
    {
     "data": {
      "text/plain": [
       "14"
      ]
     },
     "execution_count": 3,
     "metadata": {},
     "output_type": "execute_result"
    }
   ],
   "source": [
    "len(items)"
   ]
  }
 ],
 "metadata": {
  "kernelspec": {
   "display_name": "hermes_test",
   "language": "python",
   "name": "hermes_test"
  },
  "language_info": {
   "codemirror_mode": {
    "name": "ipython",
    "version": 3
   },
   "file_extension": ".py",
   "mimetype": "text/x-python",
   "name": "python",
   "nbconvert_exporter": "python",
   "pygments_lexer": "ipython3",
   "version": "3.9.1"
  }
 },
 "nbformat": 4,
 "nbformat_minor": 2
}
